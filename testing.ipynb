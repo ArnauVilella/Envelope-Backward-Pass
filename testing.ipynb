{
 "cells": [
  {
   "cell_type": "code",
   "execution_count": null,
   "id": "initial_id",
   "metadata": {
    "collapsed": true
   },
   "outputs": [],
   "source": [
    "class EnvelopeLayer:\n",
    "    def __init__(self, variables, parameters, objective, inequalities, equalities, **cvxpy_opts):\n",
    "        self.variables = variables\n",
    "        self.parameters = parameters\n",
    "        self.objective = objective\n",
    "        self.inequalities = inequalities\n",
    "        self.equalities = equalities\n",
    "        self.cvxpy_opts = cvxpy_opts\n",
    "    \n",
    "        self.cp_inequalities = [ineq(*variables, *parameters) <= 0 for ineq in inequalities]\n",
    "        self.cp_equalities = [eq(*variables, *parameters) == 0 for eq in equalities]\n",
    "        self.problem = cp.Problem(\n",
    "            cp.Minimize(objective(*variables, *parameters)),\n",
    "            self.cp_inequalities + self.cp_equalities\n",
    "        )\n",
    "\n",
    "    def forward(self, *batch_params):\n",
    "        out = []\n",
    "        batch_size = batch_params[0].shape[0]\n",
    "        for batch in range(batch_size):\n",
    "            params = [p[batch] for p in batch_params]\n",
    "            with torch.no_grad():\n",
    "                for i, p in enumerate(self.parameters):\n",
    "                    p.value = params[i].cpu().double().numpy()\n",
    "                try:\n",
    "                    self.problem.solve(**self.cvxpy_opts, max_iter=100000)\n",
    "                except:\n",
    "                    print(\"Ill conditioned case. Eigenvalues: \")\n",
    "                    print(torch.linalg.eigvals(params[0]))\n",
    "                z = [torch.tensor(v.value).type_as(params[0]) for v in self.variables]\n",
    "                lam = [torch.tensor(c.dual_value).type_as(params[0]) for c in self.cp_inequalities]\n",
    "                nu = [torch.tensor(c.dual_value).type_as(params[0]) for c in self.cp_equalities]\n",
    "            \n",
    "            g = [ineq(*z, *params) for ineq in self.inequalities]\n",
    "            h = [eq(*z, *params) for eq in self.equalities]\n",
    "            L = (self.objective(*z, *params) +\n",
    "                     sum((u*v).sum() for u,v in zip(lam,g)) + sum((u*v).sum() for u,v in zip(nu,h)))\n",
    "            dparams = autograd.grad(L, params, create_graph=True)\n",
    "\n",
    "            Sigma_hat = torch.matmul(params[0], params[0].transpose(0, 1))\n",
    "            mu_hat = params[1]\n",
    "            optimal_value = torch.matmul(z_star.unsqueeze(0),\n",
    "                                         torch.matmul(Sigma_hat, z_star.unsqueeze(1))).squeeze() - torch.sum(\n",
    "                mu_hat * z_star)\n",
    "\n",
    "            out.append(optimal_value)\n",
    "        out = torch.stack(out, dim=0)\n",
    "        return out"
   ]
  }
 ],
 "metadata": {
  "kernelspec": {
   "display_name": "Python 3",
   "language": "python",
   "name": "python3"
  },
  "language_info": {
   "codemirror_mode": {
    "name": "ipython",
    "version": 2
   },
   "file_extension": ".py",
   "mimetype": "text/x-python",
   "name": "python",
   "nbconvert_exporter": "python",
   "pygments_lexer": "ipython2",
   "version": "2.7.6"
  }
 },
 "nbformat": 4,
 "nbformat_minor": 5
}
